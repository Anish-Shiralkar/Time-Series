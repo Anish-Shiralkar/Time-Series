{
 "cells": [
  {
   "cell_type": "code",
   "execution_count": 83,
   "id": "2f2883db-82a5-4a0e-ac8c-747e3a36c5ec",
   "metadata": {},
   "outputs": [],
   "source": [
    "import pandas as pd\n",
    "import itertools\n",
    "from sklearn.metrics import mean_absolute_error\n",
    "import warnings\n",
    "\n",
    "# Suppress all warnings\n",
    "warnings.filterwarnings('ignore')"
   ]
  },
  {
   "cell_type": "code",
   "execution_count": 2,
   "id": "71c787ce-fe3d-4589-a85d-75eff8827c76",
   "metadata": {},
   "outputs": [],
   "source": [
    "import numpy as np\n",
    "from matplotlib import pyplot as plt\n",
    "import seaborn as sns\n",
    "import plotly.express as px"
   ]
  },
  {
   "cell_type": "markdown",
   "id": "91a68651-f990-4189-a8e0-1df9e2027098",
   "metadata": {},
   "source": [
    "# Data Loading"
   ]
  },
  {
   "cell_type": "code",
   "execution_count": 3,
   "id": "4327f100-21e3-4975-ad18-2176509c4794",
   "metadata": {},
   "outputs": [],
   "source": [
    "file_path = \"C:/Users/user_name/Downloads/archive (10)/DailyDelhiClimateTrain.csv\""
   ]
  },
  {
   "cell_type": "code",
   "execution_count": 4,
   "id": "9e3267df-fda8-4357-96c9-d3bce4bf55de",
   "metadata": {},
   "outputs": [],
   "source": [
    "train_df = pd.read_csv(file_path)"
   ]
  },
  {
   "cell_type": "code",
   "execution_count": 7,
   "id": "187492a8-2862-4f7a-8c7a-46072a1a7a42",
   "metadata": {},
   "outputs": [
    {
     "data": {
      "text/html": [
       "<div>\n",
       "<style scoped>\n",
       "    .dataframe tbody tr th:only-of-type {\n",
       "        vertical-align: middle;\n",
       "    }\n",
       "\n",
       "    .dataframe tbody tr th {\n",
       "        vertical-align: top;\n",
       "    }\n",
       "\n",
       "    .dataframe thead th {\n",
       "        text-align: right;\n",
       "    }\n",
       "</style>\n",
       "<table border=\"1\" class=\"dataframe\">\n",
       "  <thead>\n",
       "    <tr style=\"text-align: right;\">\n",
       "      <th></th>\n",
       "      <th>date</th>\n",
       "      <th>meantemp</th>\n",
       "      <th>humidity</th>\n",
       "      <th>wind_speed</th>\n",
       "      <th>meanpressure</th>\n",
       "    </tr>\n",
       "  </thead>\n",
       "  <tbody>\n",
       "    <tr>\n",
       "      <th>0</th>\n",
       "      <td>2013-01-01</td>\n",
       "      <td>10.000000</td>\n",
       "      <td>84.500000</td>\n",
       "      <td>0.000000</td>\n",
       "      <td>1015.666667</td>\n",
       "    </tr>\n",
       "    <tr>\n",
       "      <th>1</th>\n",
       "      <td>2013-01-02</td>\n",
       "      <td>7.400000</td>\n",
       "      <td>92.000000</td>\n",
       "      <td>2.980000</td>\n",
       "      <td>1017.800000</td>\n",
       "    </tr>\n",
       "    <tr>\n",
       "      <th>2</th>\n",
       "      <td>2013-01-03</td>\n",
       "      <td>7.166667</td>\n",
       "      <td>87.000000</td>\n",
       "      <td>4.633333</td>\n",
       "      <td>1018.666667</td>\n",
       "    </tr>\n",
       "    <tr>\n",
       "      <th>3</th>\n",
       "      <td>2013-01-04</td>\n",
       "      <td>8.666667</td>\n",
       "      <td>71.333333</td>\n",
       "      <td>1.233333</td>\n",
       "      <td>1017.166667</td>\n",
       "    </tr>\n",
       "    <tr>\n",
       "      <th>4</th>\n",
       "      <td>2013-01-05</td>\n",
       "      <td>6.000000</td>\n",
       "      <td>86.833333</td>\n",
       "      <td>3.700000</td>\n",
       "      <td>1016.500000</td>\n",
       "    </tr>\n",
       "    <tr>\n",
       "      <th>...</th>\n",
       "      <td>...</td>\n",
       "      <td>...</td>\n",
       "      <td>...</td>\n",
       "      <td>...</td>\n",
       "      <td>...</td>\n",
       "    </tr>\n",
       "    <tr>\n",
       "      <th>1457</th>\n",
       "      <td>2016-12-28</td>\n",
       "      <td>17.217391</td>\n",
       "      <td>68.043478</td>\n",
       "      <td>3.547826</td>\n",
       "      <td>1015.565217</td>\n",
       "    </tr>\n",
       "    <tr>\n",
       "      <th>1458</th>\n",
       "      <td>2016-12-29</td>\n",
       "      <td>15.238095</td>\n",
       "      <td>87.857143</td>\n",
       "      <td>6.000000</td>\n",
       "      <td>1016.904762</td>\n",
       "    </tr>\n",
       "    <tr>\n",
       "      <th>1459</th>\n",
       "      <td>2016-12-30</td>\n",
       "      <td>14.095238</td>\n",
       "      <td>89.666667</td>\n",
       "      <td>6.266667</td>\n",
       "      <td>1017.904762</td>\n",
       "    </tr>\n",
       "    <tr>\n",
       "      <th>1460</th>\n",
       "      <td>2016-12-31</td>\n",
       "      <td>15.052632</td>\n",
       "      <td>87.000000</td>\n",
       "      <td>7.325000</td>\n",
       "      <td>1016.100000</td>\n",
       "    </tr>\n",
       "    <tr>\n",
       "      <th>1461</th>\n",
       "      <td>2017-01-01</td>\n",
       "      <td>10.000000</td>\n",
       "      <td>100.000000</td>\n",
       "      <td>0.000000</td>\n",
       "      <td>1016.000000</td>\n",
       "    </tr>\n",
       "  </tbody>\n",
       "</table>\n",
       "<p>1462 rows × 5 columns</p>\n",
       "</div>"
      ],
      "text/plain": [
       "            date   meantemp    humidity  wind_speed  meanpressure\n",
       "0     2013-01-01  10.000000   84.500000    0.000000   1015.666667\n",
       "1     2013-01-02   7.400000   92.000000    2.980000   1017.800000\n",
       "2     2013-01-03   7.166667   87.000000    4.633333   1018.666667\n",
       "3     2013-01-04   8.666667   71.333333    1.233333   1017.166667\n",
       "4     2013-01-05   6.000000   86.833333    3.700000   1016.500000\n",
       "...          ...        ...         ...         ...           ...\n",
       "1457  2016-12-28  17.217391   68.043478    3.547826   1015.565217\n",
       "1458  2016-12-29  15.238095   87.857143    6.000000   1016.904762\n",
       "1459  2016-12-30  14.095238   89.666667    6.266667   1017.904762\n",
       "1460  2016-12-31  15.052632   87.000000    7.325000   1016.100000\n",
       "1461  2017-01-01  10.000000  100.000000    0.000000   1016.000000\n",
       "\n",
       "[1462 rows x 5 columns]"
      ]
     },
     "execution_count": 7,
     "metadata": {},
     "output_type": "execute_result"
    }
   ],
   "source": [
    "train_df"
   ]
  },
  {
   "cell_type": "code",
   "execution_count": 8,
   "id": "b3e94702-120c-467b-bdd3-745ae18ab39f",
   "metadata": {},
   "outputs": [],
   "source": [
    "file_path2 = \"C:/Users/user_name/Downloads/archive (10)/DailyDelhiClimateTest.csv\""
   ]
  },
  {
   "cell_type": "code",
   "execution_count": 9,
   "id": "e516266e-98f5-4708-b866-3d5b811f1201",
   "metadata": {},
   "outputs": [],
   "source": [
    "test_df = pd.read_csv(file_path2)"
   ]
  },
  {
   "cell_type": "code",
   "execution_count": 11,
   "id": "fb85149a-ed08-4818-8cab-ed19a40a22eb",
   "metadata": {},
   "outputs": [
    {
     "name": "stdout",
     "output_type": "stream",
     "text": [
      "<class 'pandas.core.frame.DataFrame'>\n",
      "RangeIndex: 1462 entries, 0 to 1461\n",
      "Data columns (total 5 columns):\n",
      " #   Column        Non-Null Count  Dtype  \n",
      "---  ------        --------------  -----  \n",
      " 0   date          1462 non-null   object \n",
      " 1   meantemp      1462 non-null   float64\n",
      " 2   humidity      1462 non-null   float64\n",
      " 3   wind_speed    1462 non-null   float64\n",
      " 4   meanpressure  1462 non-null   float64\n",
      "dtypes: float64(4), object(1)\n",
      "memory usage: 57.2+ KB\n",
      "None\n",
      "<class 'pandas.core.frame.DataFrame'>\n",
      "RangeIndex: 114 entries, 0 to 113\n",
      "Data columns (total 5 columns):\n",
      " #   Column        Non-Null Count  Dtype  \n",
      "---  ------        --------------  -----  \n",
      " 0   date          114 non-null    object \n",
      " 1   meantemp      114 non-null    float64\n",
      " 2   humidity      114 non-null    float64\n",
      " 3   wind_speed    114 non-null    float64\n",
      " 4   meanpressure  114 non-null    float64\n",
      "dtypes: float64(4), object(1)\n",
      "memory usage: 4.6+ KB\n",
      "None\n"
     ]
    }
   ],
   "source": [
    "print(train_df.info())\n",
    "print(test_df.info())"
   ]
  },
  {
   "cell_type": "code",
   "execution_count": 12,
   "id": "aff22a5e-3560-4922-96e4-bd69beee79ff",
   "metadata": {},
   "outputs": [
    {
     "name": "stdout",
     "output_type": "stream",
     "text": [
      "<class 'pandas.core.frame.DataFrame'>\n",
      "RangeIndex: 1462 entries, 0 to 1461\n",
      "Data columns (total 5 columns):\n",
      " #   Column        Non-Null Count  Dtype         \n",
      "---  ------        --------------  -----         \n",
      " 0   date          1462 non-null   datetime64[ns]\n",
      " 1   meantemp      1462 non-null   float64       \n",
      " 2   humidity      1462 non-null   float64       \n",
      " 3   wind_speed    1462 non-null   float64       \n",
      " 4   meanpressure  1462 non-null   float64       \n",
      "dtypes: datetime64[ns](1), float64(4)\n",
      "memory usage: 57.2 KB\n",
      "None\n",
      "<class 'pandas.core.frame.DataFrame'>\n",
      "RangeIndex: 114 entries, 0 to 113\n",
      "Data columns (total 5 columns):\n",
      " #   Column        Non-Null Count  Dtype         \n",
      "---  ------        --------------  -----         \n",
      " 0   date          114 non-null    datetime64[ns]\n",
      " 1   meantemp      114 non-null    float64       \n",
      " 2   humidity      114 non-null    float64       \n",
      " 3   wind_speed    114 non-null    float64       \n",
      " 4   meanpressure  114 non-null    float64       \n",
      "dtypes: datetime64[ns](1), float64(4)\n",
      "memory usage: 4.6 KB\n",
      "None\n"
     ]
    }
   ],
   "source": [
    "train_df[\"date\"] = pd.to_datetime(train_df[\"date\"])\n",
    "print(train_df.info())\n",
    "test_df[\"date\"] = pd.to_datetime(test_df[\"date\"])\n",
    "print(test_df.info())"
   ]
  },
  {
   "cell_type": "code",
   "execution_count": 15,
   "id": "22dd5230-0ecd-4fd5-a432-343ba51f1295",
   "metadata": {},
   "outputs": [
    {
     "data": {
      "text/html": [
       "<div>\n",
       "<style scoped>\n",
       "    .dataframe tbody tr th:only-of-type {\n",
       "        vertical-align: middle;\n",
       "    }\n",
       "\n",
       "    .dataframe tbody tr th {\n",
       "        vertical-align: top;\n",
       "    }\n",
       "\n",
       "    .dataframe thead th {\n",
       "        text-align: right;\n",
       "    }\n",
       "</style>\n",
       "<table border=\"1\" class=\"dataframe\">\n",
       "  <thead>\n",
       "    <tr style=\"text-align: right;\">\n",
       "      <th></th>\n",
       "      <th>date</th>\n",
       "      <th>meantemp</th>\n",
       "      <th>humidity</th>\n",
       "      <th>wind_speed</th>\n",
       "      <th>meanpressure</th>\n",
       "    </tr>\n",
       "  </thead>\n",
       "  <tbody>\n",
       "    <tr>\n",
       "      <th>0</th>\n",
       "      <td>2013-01-01</td>\n",
       "      <td>10.000000</td>\n",
       "      <td>84.500000</td>\n",
       "      <td>0.000000</td>\n",
       "      <td>1015.666667</td>\n",
       "    </tr>\n",
       "    <tr>\n",
       "      <th>1</th>\n",
       "      <td>2013-01-02</td>\n",
       "      <td>7.400000</td>\n",
       "      <td>92.000000</td>\n",
       "      <td>2.980000</td>\n",
       "      <td>1017.800000</td>\n",
       "    </tr>\n",
       "    <tr>\n",
       "      <th>2</th>\n",
       "      <td>2013-01-03</td>\n",
       "      <td>7.166667</td>\n",
       "      <td>87.000000</td>\n",
       "      <td>4.633333</td>\n",
       "      <td>1018.666667</td>\n",
       "    </tr>\n",
       "    <tr>\n",
       "      <th>3</th>\n",
       "      <td>2013-01-04</td>\n",
       "      <td>8.666667</td>\n",
       "      <td>71.333333</td>\n",
       "      <td>1.233333</td>\n",
       "      <td>1017.166667</td>\n",
       "    </tr>\n",
       "    <tr>\n",
       "      <th>4</th>\n",
       "      <td>2013-01-05</td>\n",
       "      <td>6.000000</td>\n",
       "      <td>86.833333</td>\n",
       "      <td>3.700000</td>\n",
       "      <td>1016.500000</td>\n",
       "    </tr>\n",
       "    <tr>\n",
       "      <th>...</th>\n",
       "      <td>...</td>\n",
       "      <td>...</td>\n",
       "      <td>...</td>\n",
       "      <td>...</td>\n",
       "      <td>...</td>\n",
       "    </tr>\n",
       "    <tr>\n",
       "      <th>109</th>\n",
       "      <td>2017-04-20</td>\n",
       "      <td>34.500000</td>\n",
       "      <td>27.500000</td>\n",
       "      <td>5.562500</td>\n",
       "      <td>998.625000</td>\n",
       "    </tr>\n",
       "    <tr>\n",
       "      <th>110</th>\n",
       "      <td>2017-04-21</td>\n",
       "      <td>34.250000</td>\n",
       "      <td>39.375000</td>\n",
       "      <td>6.962500</td>\n",
       "      <td>999.875000</td>\n",
       "    </tr>\n",
       "    <tr>\n",
       "      <th>111</th>\n",
       "      <td>2017-04-22</td>\n",
       "      <td>32.900000</td>\n",
       "      <td>40.900000</td>\n",
       "      <td>8.890000</td>\n",
       "      <td>1001.600000</td>\n",
       "    </tr>\n",
       "    <tr>\n",
       "      <th>112</th>\n",
       "      <td>2017-04-23</td>\n",
       "      <td>32.875000</td>\n",
       "      <td>27.500000</td>\n",
       "      <td>9.962500</td>\n",
       "      <td>1002.125000</td>\n",
       "    </tr>\n",
       "    <tr>\n",
       "      <th>113</th>\n",
       "      <td>2017-04-24</td>\n",
       "      <td>32.000000</td>\n",
       "      <td>27.142857</td>\n",
       "      <td>12.157143</td>\n",
       "      <td>1004.142857</td>\n",
       "    </tr>\n",
       "  </tbody>\n",
       "</table>\n",
       "<p>1576 rows × 5 columns</p>\n",
       "</div>"
      ],
      "text/plain": [
       "          date   meantemp   humidity  wind_speed  meanpressure\n",
       "0   2013-01-01  10.000000  84.500000    0.000000   1015.666667\n",
       "1   2013-01-02   7.400000  92.000000    2.980000   1017.800000\n",
       "2   2013-01-03   7.166667  87.000000    4.633333   1018.666667\n",
       "3   2013-01-04   8.666667  71.333333    1.233333   1017.166667\n",
       "4   2013-01-05   6.000000  86.833333    3.700000   1016.500000\n",
       "..         ...        ...        ...         ...           ...\n",
       "109 2017-04-20  34.500000  27.500000    5.562500    998.625000\n",
       "110 2017-04-21  34.250000  39.375000    6.962500    999.875000\n",
       "111 2017-04-22  32.900000  40.900000    8.890000   1001.600000\n",
       "112 2017-04-23  32.875000  27.500000    9.962500   1002.125000\n",
       "113 2017-04-24  32.000000  27.142857   12.157143   1004.142857\n",
       "\n",
       "[1576 rows x 5 columns]"
      ]
     },
     "execution_count": 15,
     "metadata": {},
     "output_type": "execute_result"
    }
   ],
   "source": [
    "df = pd.concat([train_df, test_df])\n",
    "df"
   ]
  },
  {
   "cell_type": "code",
   "execution_count": 17,
   "id": "e6958092-d556-4297-b152-bdf9ee25a4db",
   "metadata": {},
   "outputs": [
    {
     "data": {
      "text/html": [
       "<div>\n",
       "<style scoped>\n",
       "    .dataframe tbody tr th:only-of-type {\n",
       "        vertical-align: middle;\n",
       "    }\n",
       "\n",
       "    .dataframe tbody tr th {\n",
       "        vertical-align: top;\n",
       "    }\n",
       "\n",
       "    .dataframe thead th {\n",
       "        text-align: right;\n",
       "    }\n",
       "</style>\n",
       "<table border=\"1\" class=\"dataframe\">\n",
       "  <thead>\n",
       "    <tr style=\"text-align: right;\">\n",
       "      <th></th>\n",
       "      <th>date</th>\n",
       "      <th>meantemp</th>\n",
       "    </tr>\n",
       "  </thead>\n",
       "  <tbody>\n",
       "    <tr>\n",
       "      <th>0</th>\n",
       "      <td>2013-01-01</td>\n",
       "      <td>10.000000</td>\n",
       "    </tr>\n",
       "    <tr>\n",
       "      <th>1</th>\n",
       "      <td>2013-01-02</td>\n",
       "      <td>7.400000</td>\n",
       "    </tr>\n",
       "    <tr>\n",
       "      <th>2</th>\n",
       "      <td>2013-01-03</td>\n",
       "      <td>7.166667</td>\n",
       "    </tr>\n",
       "    <tr>\n",
       "      <th>3</th>\n",
       "      <td>2013-01-04</td>\n",
       "      <td>8.666667</td>\n",
       "    </tr>\n",
       "    <tr>\n",
       "      <th>4</th>\n",
       "      <td>2013-01-05</td>\n",
       "      <td>6.000000</td>\n",
       "    </tr>\n",
       "    <tr>\n",
       "      <th>...</th>\n",
       "      <td>...</td>\n",
       "      <td>...</td>\n",
       "    </tr>\n",
       "    <tr>\n",
       "      <th>109</th>\n",
       "      <td>2017-04-20</td>\n",
       "      <td>34.500000</td>\n",
       "    </tr>\n",
       "    <tr>\n",
       "      <th>110</th>\n",
       "      <td>2017-04-21</td>\n",
       "      <td>34.250000</td>\n",
       "    </tr>\n",
       "    <tr>\n",
       "      <th>111</th>\n",
       "      <td>2017-04-22</td>\n",
       "      <td>32.900000</td>\n",
       "    </tr>\n",
       "    <tr>\n",
       "      <th>112</th>\n",
       "      <td>2017-04-23</td>\n",
       "      <td>32.875000</td>\n",
       "    </tr>\n",
       "    <tr>\n",
       "      <th>113</th>\n",
       "      <td>2017-04-24</td>\n",
       "      <td>32.000000</td>\n",
       "    </tr>\n",
       "  </tbody>\n",
       "</table>\n",
       "<p>1576 rows × 2 columns</p>\n",
       "</div>"
      ],
      "text/plain": [
       "          date   meantemp\n",
       "0   2013-01-01  10.000000\n",
       "1   2013-01-02   7.400000\n",
       "2   2013-01-03   7.166667\n",
       "3   2013-01-04   8.666667\n",
       "4   2013-01-05   6.000000\n",
       "..         ...        ...\n",
       "109 2017-04-20  34.500000\n",
       "110 2017-04-21  34.250000\n",
       "111 2017-04-22  32.900000\n",
       "112 2017-04-23  32.875000\n",
       "113 2017-04-24  32.000000\n",
       "\n",
       "[1576 rows x 2 columns]"
      ]
     },
     "execution_count": 17,
     "metadata": {},
     "output_type": "execute_result"
    }
   ],
   "source": [
    "df = df[[\"date\", \"meantemp\"]]\n",
    "df"
   ]
  },
  {
   "cell_type": "code",
   "execution_count": 18,
   "id": "48ad0a56-05f2-44dc-a936-4a724074c00d",
   "metadata": {},
   "outputs": [
    {
     "data": {
      "text/html": [
       "<div>\n",
       "<style scoped>\n",
       "    .dataframe tbody tr th:only-of-type {\n",
       "        vertical-align: middle;\n",
       "    }\n",
       "\n",
       "    .dataframe tbody tr th {\n",
       "        vertical-align: top;\n",
       "    }\n",
       "\n",
       "    .dataframe thead th {\n",
       "        text-align: right;\n",
       "    }\n",
       "</style>\n",
       "<table border=\"1\" class=\"dataframe\">\n",
       "  <thead>\n",
       "    <tr style=\"text-align: right;\">\n",
       "      <th></th>\n",
       "      <th>meantemp</th>\n",
       "    </tr>\n",
       "    <tr>\n",
       "      <th>date</th>\n",
       "      <th></th>\n",
       "    </tr>\n",
       "  </thead>\n",
       "  <tbody>\n",
       "    <tr>\n",
       "      <th>2013-01-01</th>\n",
       "      <td>10.000000</td>\n",
       "    </tr>\n",
       "    <tr>\n",
       "      <th>2013-01-02</th>\n",
       "      <td>7.400000</td>\n",
       "    </tr>\n",
       "    <tr>\n",
       "      <th>2013-01-03</th>\n",
       "      <td>7.166667</td>\n",
       "    </tr>\n",
       "    <tr>\n",
       "      <th>2013-01-04</th>\n",
       "      <td>8.666667</td>\n",
       "    </tr>\n",
       "    <tr>\n",
       "      <th>2013-01-05</th>\n",
       "      <td>6.000000</td>\n",
       "    </tr>\n",
       "  </tbody>\n",
       "</table>\n",
       "</div>"
      ],
      "text/plain": [
       "             meantemp\n",
       "date                 \n",
       "2013-01-01  10.000000\n",
       "2013-01-02   7.400000\n",
       "2013-01-03   7.166667\n",
       "2013-01-04   8.666667\n",
       "2013-01-05   6.000000"
      ]
     },
     "execution_count": 18,
     "metadata": {},
     "output_type": "execute_result"
    }
   ],
   "source": [
    "df = df.set_index(\"date\")\n",
    "df.head()"
   ]
  },
  {
   "cell_type": "code",
   "execution_count": 19,
   "id": "b4e66cd9-b940-4eeb-9078-9f912a50e054",
   "metadata": {},
   "outputs": [
    {
     "data": {
      "text/plain": [
       "date\n",
       "2013-01-06     7.705556\n",
       "2013-01-13    12.343537\n",
       "2013-01-20    13.642857\n",
       "2013-01-27    12.329592\n",
       "2013-02-03    15.736905\n",
       "                ...    \n",
       "2017-04-02    30.203515\n",
       "2017-04-09    28.805189\n",
       "2017-04-16    29.820862\n",
       "2017-04-23    33.511508\n",
       "2017-04-30    32.000000\n",
       "Freq: W-SUN, Name: meantemp, Length: 226, dtype: float64"
      ]
     },
     "execution_count": 19,
     "metadata": {},
     "output_type": "execute_result"
    }
   ],
   "source": [
    "weekly_mean = df[\"meantemp\"].resample('W').mean()\n",
    "weekly_mean"
   ]
  },
  {
   "cell_type": "code",
   "execution_count": 20,
   "id": "593dc208-71b4-4fdd-aa3e-7a7e052a4c93",
   "metadata": {},
   "outputs": [],
   "source": [
    "#train = df[:1300][[\"meantemp\"]]\n",
    "#test = df[1300:][[\"meantemp\"]]\n",
    "train = weekly_mean[:200]\n",
    "test = weekly_mean[200:]"
   ]
  },
  {
   "cell_type": "code",
   "execution_count": 24,
   "id": "ca4b7f82-59f5-4e2a-b0fb-4c07abbdaadf",
   "metadata": {},
   "outputs": [
    {
     "data": {
      "text/plain": [
       "date\n",
       "2013-01-06     7.705556\n",
       "2013-01-13    12.343537\n",
       "2013-01-20    13.642857\n",
       "2013-01-27    12.329592\n",
       "2013-02-03    15.736905\n",
       "Freq: W-SUN, Name: meantemp, dtype: float64"
      ]
     },
     "execution_count": 24,
     "metadata": {},
     "output_type": "execute_result"
    }
   ],
   "source": [
    "train.head()"
   ]
  },
  {
   "cell_type": "code",
   "execution_count": 25,
   "id": "1e078b2f-76c2-4093-a3b3-37ccef91225f",
   "metadata": {},
   "outputs": [
    {
     "data": {
      "text/plain": [
       "date\n",
       "2016-11-06    24.163782\n",
       "2016-11-13    23.792786\n",
       "2016-11-20    21.961941\n",
       "2016-11-27    22.842147\n",
       "2016-12-04    20.428841\n",
       "Freq: W-SUN, Name: meantemp, dtype: float64"
      ]
     },
     "execution_count": 25,
     "metadata": {},
     "output_type": "execute_result"
    }
   ],
   "source": [
    "test.head()"
   ]
  },
  {
   "cell_type": "markdown",
   "id": "0c3c9869-a4d8-4371-a71b-f1c23a764352",
   "metadata": {},
   "source": [
    "# Data Exploration"
   ]
  },
  {
   "cell_type": "code",
   "execution_count": 44,
   "id": "1aa78d24-4ae2-494c-a6ff-7676128c282f",
   "metadata": {},
   "outputs": [
    {
     "data": {
      "text/plain": [
       "<Axes: xlabel='date'>"
      ]
     },
     "execution_count": 44,
     "metadata": {},
     "output_type": "execute_result"
    },
    {
     "data": {
      "image/png": "[encoded data removed]",
      "text/plain": [
       "<Figure size 640x480 with 1 Axes>"
      ]
     },
     "metadata": {},
     "output_type": "display_data"
    }
   ],
   "source": [
    "train.plot()"
   ]
  },
  {
   "cell_type": "code",
   "execution_count": 49,
   "id": "cb248641-25bf-4d87-a030-164c7cbb5a5f",
   "metadata": {},
   "outputs": [],
   "source": [
    "# We will reset the index for some data exploration\n",
    "\n",
    "train = train.reset_index(\"date\")"
   ]
  },
  {
   "cell_type": "markdown",
   "id": "8bc86893-3ddb-41ea-9a86-41a00cab66c2",
   "metadata": {},
   "source": [
    "## Histogram of temperature distribution"
   ]
  },
  {
   "cell_type": "code",
   "execution_count": 84,
   "id": "18a2094c-a041-46fa-b49b-3a43a5572549",
   "metadata": {},
   "outputs": [
    {
     "data": {
      "image/png": "[encoded data removed]",
      "text/plain": [
       "<Figure size 1000x600 with 1 Axes>"
      ]
     },
     "metadata": {},
     "output_type": "display_data"
    }
   ],
   "source": [
    "plt.figure(figsize=(10, 6))\n",
    "sns.histplot(train['meantemp'], bins=30, kde=True, color='blue')\n",
    "\n",
    "\n",
    "plt.xlabel('Mean Temperature')\n",
    "plt.ylabel('Frequency')\n",
    "plt.title('Histogram of Mean Temperature')\n",
    "\n",
    "\n",
    "plt.show()"
   ]
  },
  {
   "cell_type": "markdown",
   "id": "70e1be6a-b506-48f6-84e8-c80cea77a9a5",
   "metadata": {},
   "source": [
    "## Scatter plot of temperature over time"
   ]
  },
  {
   "cell_type": "code",
   "execution_count": 51,
   "id": "19493c12-d9eb-481d-90f4-a09bae461908",
   "metadata": {},
   "outputs": [
    {
     "data": {
      "image/png": "[encoded data removed]",
      "text/plain": [
       "<Figure size 1200x600 with 1 Axes>"
      ]
     },
     "metadata": {},
     "output_type": "display_data"
    }
   ],
   "source": [
    "plt.figure(figsize=(12, 6))\n",
    "sns.scatterplot(x='date', y='meantemp', data=train, color='blue')\n",
    "\n",
    "\n",
    "plt.xlabel('Date')\n",
    "plt.ylabel('Mean Temperature')\n",
    "plt.title('Scatter Plot of Mean Temperature Over Time')\n",
    "\n",
    "\n",
    "plt.xticks(rotation=45)\n",
    "\n",
    "\n",
    "plt.show()"
   ]
  },
  {
   "cell_type": "markdown",
   "id": "61e5fafa-5bd3-49b1-a8eb-17c92e74304d",
   "metadata": {},
   "source": [
    "## Box plot of temperature"
   ]
  },
  {
   "cell_type": "code",
   "execution_count": 52,
   "id": "3bda1c42-588d-4f1d-8b7b-e7b73ba5bbac",
   "metadata": {},
   "outputs": [
    {
     "data": {
      "application/vnd.plotly.v1+json": {
       "config": {
        "plotlyServerURL": "https://plot.ly"
       },
       "data": [
        {
         "alignmentgroup": "True",
         "hovertemplate": "meantemp=%{y}<extra></extra>",
         "legendgroup": "",
         "marker": {
          "color": "skyblue"
         },
         "name": "",
         "notched": false,
         "offsetgroup": "",
         "orientation": "v",
         "showlegend": false,
         "type": "box",
         "x0": " ",
         "xaxis": "x",
         "y": [
          7.705555555555556,
          12.343537414965985,
          13.642857142857142,
          12.329591836734693,
          15.736904761904762,
          15.856972789115646,
          16.012755102040817,
          17.708163265306123,
          18.661054421768707,
          22.214115646258502,
          22.642857142857142,
          25.507653061224488,
          22.71734693877551,
          25.991666666666667,
          29.455442176870747,
          29.49115646258503,
          29.85969387755102,
          31.287414965986393,
          32.71683673469388,
          32.7952380952381,
          37.37040816326531,
          33.65119047619048,
          34.89659863945578,
          31.232142857142858,
          31.961734693877553,
          31.913265306122447,
          32.27329931972789,
          30.351190476190474,
          30.004761904761903,
          30.26190476190476,
          30.98639455782313,
          28.590986394557824,
          28.570408163265306,
          29.33248299319728,
          30.56462585034014,
          31.05612244897959,
          30.851190476190478,
          28.579931972789115,
          29.27857142857143,
          28.00374149659864,
          28.048979591836734,
          26.013605442176868,
          24.31530612244898,
          22.552721088435373,
          19.343537414965986,
          17.142857142857142,
          18.198979591836736,
          19.125,
          16.808673469387752,
          16.397959183673468,
          15.196428571428571,
          12.409013605442178,
          12.714285714285714,
          12.236394557823129,
          13.165816326530614,
          14.153061224489795,
          15.232142857142858,
          16.987244897959183,
          13.339285714285714,
          15.982142857142858,
          17.10969387755102,
          19.178571428571427,
          20.58418367346939,
          23.51530612244898,
          24.293367346938773,
          26.301020408163264,
          27.038265306122447,
          26.714285714285715,
          29.803571428571427,
          32.82142857142857,
          30.367346938775512,
          28.875,
          32.482142857142854,
          33.05357142857143,
          36.19642857142857,
          34.32142857142857,
          36.035714285714285,
          33.214285714285715,
          31.209967320261438,
          35.035714285714285,
          30.982142857142858,
          31.40561224489796,
          31.357142857142858,
          30.319327731092436,
          31.239795918367346,
          32.839285714285715,
          31.158163265306122,
          28.739795918367346,
          29.22448979591837,
          30.571428571428573,
          30.285714285714285,
          30.57908163265306,
          28.119897959183675,
          24.625,
          25.321428571428573,
          23.910714285714285,
          23.535714285714285,
          19.142857142857142,
          18.357142857142858,
          18.642857142857142,
          20.125,
          17.683673469387752,
          13.071428571428571,
          9.75,
          13.428571428571429,
          11.196428571428571,
          12.392857142857142,
          13.321428571428571,
          13.10204081632653,
          15.857142857142858,
          17.089285714285715,
          21.79081632653061,
          20.767857142857142,
          18.160714285714285,
          19.303571428571427,
          22.086734693877553,
          26.428571428571427,
          24.70918367346939,
          25.732142857142858,
          27.75,
          30.928571428571427,
          31.053571428571427,
          33.8469387755102,
          30.892857142857142,
          35.035714285714285,
          34.732142857142854,
          31.785714285714285,
          34.339285714285715,
          33.107142857142854,
          32.214285714285715,
          32.941326530612244,
          27.785714285714285,
          30.892857142857142,
          31.104591836734695,
          29.071428571428573,
          29.36033163265306,
          29.928571428571427,
          30.196428571428573,
          32.017857142857146,
          31.658163265306122,
          31.48469387755102,
          31.341836734693878,
          29.102040816326532,
          28.808673469387752,
          28.54591836734694,
          28.158163265306122,
          26.051020408163264,
          23,
          22.839285714285715,
          22.214285714285715,
          19.232142857142858,
          18.607142857142858,
          18.107142857142858,
          16.68622448979592,
          12.660714285714286,
          12.571428571428571,
          15.298469387755102,
          16.152210884353742,
          15.454166666666666,
          12.46232993197279,
          16.821428571428573,
          14.88949383949384,
          18.084356714713856,
          20.253440607012035,
          22.182653061224492,
          24.826190476190476,
          24.36921768707483,
          25.25688775510204,
          26.6875,
          29.83231292517007,
          31.24047619047619,
          32.69345238095238,
          33.30952380952381,
          33.46968210361067,
          33.95680272108844,
          35.216421568627446,
          37.16751700680272,
          34.008921550009326,
          34.99243197278911,
          35.27559523809524,
          34.6468537414966,
          33.93091313448456,
          32.28962585034014,
          32.47380952380952,
          29.991071428571427,
          32.24821428571429,
          29.15297619047619,
          31.781489262371615,
          30.54607535321821,
          31.382653061224488,
          31.68167044595616,
          29.736694685697632,
          31.036416361416364,
          31.816899766899763,
          31.798130894870024,
          32.271889301175015,
          30.834546194546196,
          29.271164021164022,
          28.62075332075332,
          26.690271274619104
         ],
         "y0": " ",
         "yaxis": "y"
        }
       ],
       "layout": {
        "boxmode": "group",
        "height": 600,
        "legend": {
         "tracegroupgap": 0
        },
        "template": {
         "data": {
          "bar": [
           {
            "error_x": {
             "color": "#2a3f5f"
            },
            "error_y": {
             "color": "#2a3f5f"
            },
            "marker": {
             "line": {
              "color": "#E5ECF6",
              "width": 0.5
             },
             "pattern": {
              "fillmode": "overlay",
              "size": 10,
              "solidity": 0.2
             }
            },
            "type": "bar"
           }
          ],
          "barpolar": [
           {
            "marker": {
             "line": {
              "color": "#E5ECF6",
              "width": 0.5
             },
             "pattern": {
              "fillmode": "overlay",
              "size": 10,
              "solidity": 0.2
             }
            },
            "type": "barpolar"
           }
          ],
          "carpet": [
           {
            "aaxis": {
             "endlinecolor": "#2a3f5f",
             "gridcolor": "white",
             "linecolor": "white",
             "minorgridcolor": "white",
             "startlinecolor": "#2a3f5f"
            },
            "baxis": {
             "endlinecolor": "#2a3f5f",
             "gridcolor": "white",
             "linecolor": "white",
             "minorgridcolor": "white",
             "startlinecolor": "#2a3f5f"
            },
            "type": "carpet"
           }
          ],
          "choropleth": [
           {
            "colorbar": {
             "outlinewidth": 0,
             "ticks": ""
            },
            "type": "choropleth"
           }
          ],
          "contour": [
           {
            "colorbar": {
             "outlinewidth": 0,
             "ticks": ""
            },
            "colorscale": [
             [
              0,
              "#0d0887"
             ],
             [
              0.1111111111111111,
              "#46039f"
             ],
             [
              0.2222222222222222,
              "#7201a8"
             ],
             [
              0.3333333333333333,
              "#9c179e"
             ],
             [
              0.4444444444444444,
              "#bd3786"
             ],
             [
              0.5555555555555556,
              "#d8576b"
             ],
             [
              0.6666666666666666,
              "#ed7953"
             ],
             [
              0.7777777777777778,
              "#fb9f3a"
             ],
             [
              0.8888888888888888,
              "#fdca26"
             ],
             [
              1,
              "#f0f921"
             ]
            ],
            "type": "contour"
           }
          ],
          "contourcarpet": [
           {
            "colorbar": {
             "outlinewidth": 0,
             "ticks": ""
            },
            "type": "contourcarpet"
           }
          ],
          "heatmap": [
           {
            "colorbar": {
             "outlinewidth": 0,
             "ticks": ""
            },
            "colorscale": [
             [
              0,
              "#0d0887"
             ],
             [
              0.1111111111111111,
              "#46039f"
             ],
             [
              0.2222222222222222,
              "#7201a8"
             ],
             [
              0.3333333333333333,
              "#9c179e"
             ],
             [
              0.4444444444444444,
              "#bd3786"
             ],
             [
              0.5555555555555556,
              "#d8576b"
             ],
             [
              0.6666666666666666,
              "#ed7953"
             ],
             [
              0.7777777777777778,
              "#fb9f3a"
             ],
             [
              0.8888888888888888,
              "#fdca26"
             ],
             [
              1,
              "#f0f921"
             ]
            ],
            "type": "heatmap"
           }
          ],
          "heatmapgl": [
           {
            "colorbar": {
             "outlinewidth": 0,
             "ticks": ""
            },
            "colorscale": [
             [
              0,
              "#0d0887"
             ],
             [
              0.1111111111111111,
              "#46039f"
             ],
             [
              0.2222222222222222,
              "#7201a8"
             ],
             [
              0.3333333333333333,
              "#9c179e"
             ],
             [
              0.4444444444444444,
              "#bd3786"
             ],
             [
              0.5555555555555556,
              "#d8576b"
             ],
             [
              0.6666666666666666,
              "#ed7953"
             ],
             [
              0.7777777777777778,
              "#fb9f3a"
             ],
             [
              0.8888888888888888,
              "#fdca26"
             ],
             [
              1,
              "#f0f921"
             ]
            ],
            "type": "heatmapgl"
           }
          ],
          "histogram": [
           {
            "marker": {
             "pattern": {
              "fillmode": "overlay",
              "size": 10,
              "solidity": 0.2
             }
            },
            "type": "histogram"
           }
          ],
          "histogram2d": [
           {
            "colorbar": {
             "outlinewidth": 0,
             "ticks": ""
            },
            "colorscale": [
             [
              0,
              "#0d0887"
             ],
             [
              0.1111111111111111,
              "#46039f"
             ],
             [
              0.2222222222222222,
              "#7201a8"
             ],
             [
              0.3333333333333333,
              "#9c179e"
             ],
             [
              0.4444444444444444,
              "#bd3786"
             ],
             [
              0.5555555555555556,
              "#d8576b"
             ],
             [
              0.6666666666666666,
              "#ed7953"
             ],
             [
              0.7777777777777778,
              "#fb9f3a"
             ],
             [
              0.8888888888888888,
              "#fdca26"
             ],
             [
              1,
              "#f0f921"
             ]
            ],
            "type": "histogram2d"
           }
          ],
          "histogram2dcontour": [
           {
            "colorbar": {
             "outlinewidth": 0,
             "ticks": ""
            },
            "colorscale": [
             [
              0,
              "#0d0887"
             ],
             [
              0.1111111111111111,
              "#46039f"
             ],
             [
              0.2222222222222222,
              "#7201a8"
             ],
             [
              0.3333333333333333,
              "#9c179e"
             ],
             [
              0.4444444444444444,
              "#bd3786"
             ],
             [
              0.5555555555555556,
              "#d8576b"
             ],
             [
              0.6666666666666666,
              "#ed7953"
             ],
             [
              0.7777777777777778,
              "#fb9f3a"
             ],
             [
              0.8888888888888888,
              "#fdca26"
             ],
             [
              1,
              "#f0f921"
             ]
            ],
            "type": "histogram2dcontour"
           }
          ],
          "mesh3d": [
           {
            "colorbar": {
             "outlinewidth": 0,
             "ticks": ""
            },
            "type": "mesh3d"
           }
          ],
          "parcoords": [
           {
            "line": {
             "colorbar": {
              "outlinewidth": 0,
              "ticks": ""
             }
            },
            "type": "parcoords"
           }
          ],
          "pie": [
           {
            "automargin": true,
            "type": "pie"
           }
          ],
          "scatter": [
           {
            "fillpattern": {
             "fillmode": "overlay",
             "size": 10,
             "solidity": 0.2
            },
            "type": "scatter"
           }
          ],
          "scatter3d": [
           {
            "line": {
             "colorbar": {
              "outlinewidth": 0,
              "ticks": ""
             }
            },
            "marker": {
             "colorbar": {
              "outlinewidth": 0,
              "ticks": ""
             }
            },
            "type": "scatter3d"
           }
          ],
          "scattercarpet": [
           {
            "marker": {
             "colorbar": {
              "outlinewidth": 0,
              "ticks": ""
             }
            },
            "type": "scattercarpet"
           }
          ],
          "scattergeo": [
           {
            "marker": {
             "colorbar": {
              "outlinewidth": 0,
              "ticks": ""
             }
            },
            "type": "scattergeo"
           }
          ],
          "scattergl": [
           {
            "marker": {
             "colorbar": {
              "outlinewidth": 0,
              "ticks": ""
             }
            },
            "type": "scattergl"
           }
          ],
          "scattermapbox": [
           {
            "marker": {
             "colorbar": {
              "outlinewidth": 0,
              "ticks": ""
             }
            },
            "type": "scattermapbox"
           }
          ],
          "scatterpolar": [
           {
            "marker": {
             "colorbar": {
              "outlinewidth": 0,
              "ticks": ""
             }
            },
            "type": "scatterpolar"
           }
          ],
          "scatterpolargl": [
           {
            "marker": {
             "colorbar": {
              "outlinewidth": 0,
              "ticks": ""
             }
            },
            "type": "scatterpolargl"
           }
          ],
          "scatterternary": [
           {
            "marker": {
             "colorbar": {
              "outlinewidth": 0,
              "ticks": ""
             }
            },
            "type": "scatterternary"
           }
          ],
          "surface": [
           {
            "colorbar": {
             "outlinewidth": 0,
             "ticks": ""
            },
            "colorscale": [
             [
              0,
              "#0d0887"
             ],
             [
              0.1111111111111111,
              "#46039f"
             ],
             [
              0.2222222222222222,
              "#7201a8"
             ],
             [
              0.3333333333333333,
              "#9c179e"
             ],
             [
              0.4444444444444444,
              "#bd3786"
             ],
             [
              0.5555555555555556,
              "#d8576b"
             ],
             [
              0.6666666666666666,
              "#ed7953"
             ],
             [
              0.7777777777777778,
              "#fb9f3a"
             ],
             [
              0.8888888888888888,
              "#fdca26"
             ],
             [
              1,
              "#f0f921"
             ]
            ],
            "type": "surface"
           }
          ],
          "table": [
           {
            "cells": {
             "fill": {
              "color": "#EBF0F8"
             },
             "line": {
              "color": "white"
             }
            },
            "header": {
             "fill": {
              "color": "#C8D4E3"
             },
             "line": {
              "color": "white"
             }
            },
            "type": "table"
           }
          ]
         },
         "layout": {
          "annotationdefaults": {
           "arrowcolor": "#2a3f5f",
           "arrowhead": 0,
           "arrowwidth": 1
          },
          "autotypenumbers": "strict",
          "coloraxis": {
           "colorbar": {
            "outlinewidth": 0,
            "ticks": ""
           }
          },
          "colorscale": {
           "diverging": [
            [
             0,
             "#8e0152"
            ],
            [
             0.1,
             "#c51b7d"
            ],
            [
             0.2,
             "#de77ae"
            ],
            [
             0.3,
             "#f1b6da"
            ],
            [
             0.4,
             "#fde0ef"
            ],
            [
             0.5,
             "#f7f7f7"
            ],
            [
             0.6,
             "#e6f5d0"
            ],
            [
             0.7,
             "#b8e186"
            ],
            [
             0.8,
             "#7fbc41"
            ],
            [
             0.9,
             "#4d9221"
            ],
            [
             1,
             "#276419"
            ]
           ],
           "sequential": [
            [
             0,
             "#0d0887"
            ],
            [
             0.1111111111111111,
             "#46039f"
            ],
            [
             0.2222222222222222,
             "#7201a8"
            ],
            [
             0.3333333333333333,
             "#9c179e"
            ],
            [
             0.4444444444444444,
             "#bd3786"
            ],
            [
             0.5555555555555556,
             "#d8576b"
            ],
            [
             0.6666666666666666,
             "#ed7953"
            ],
            [
             0.7777777777777778,
             "#fb9f3a"
            ],
            [
             0.8888888888888888,
             "#fdca26"
            ],
            [
             1,
             "#f0f921"
            ]
           ],
           "sequentialminus": [
            [
             0,
             "#0d0887"
            ],
            [
             0.1111111111111111,
             "#46039f"
            ],
            [
             0.2222222222222222,
             "#7201a8"
            ],
            [
             0.3333333333333333,
             "#9c179e"
            ],
            [
             0.4444444444444444,
             "#bd3786"
            ],
            [
             0.5555555555555556,
             "#d8576b"
            ],
            [
             0.6666666666666666,
             "#ed7953"
            ],
            [
             0.7777777777777778,
             "#fb9f3a"
            ],
            [
             0.8888888888888888,
             "#fdca26"
            ],
            [
             1,
             "#f0f921"
            ]
           ]
          },
          "colorway": [
           "#636efa",
           "#EF553B",
           "#00cc96",
           "#ab63fa",
           "#FFA15A",
           "#19d3f3",
           "#FF6692",
           "#B6E880",
           "#FF97FF",
           "#FECB52"
          ],
          "font": {
           "color": "#2a3f5f"
          },
          "geo": {
           "bgcolor": "white",
           "lakecolor": "white",
           "landcolor": "#E5ECF6",
           "showlakes": true,
           "showland": true,
           "subunitcolor": "white"
          },
          "hoverlabel": {
           "align": "left"
          },
          "hovermode": "closest",
          "mapbox": {
           "style": "light"
          },
          "paper_bgcolor": "white",
          "plot_bgcolor": "#E5ECF6",
          "polar": {
           "angularaxis": {
            "gridcolor": "white",
            "linecolor": "white",
            "ticks": ""
           },
           "bgcolor": "#E5ECF6",
           "radialaxis": {
            "gridcolor": "white",
            "linecolor": "white",
            "ticks": ""
           }
          },
          "scene": {
           "xaxis": {
            "backgroundcolor": "#E5ECF6",
            "gridcolor": "white",
            "gridwidth": 2,
            "linecolor": "white",
            "showbackground": true,
            "ticks": "",
            "zerolinecolor": "white"
           },
           "yaxis": {
            "backgroundcolor": "#E5ECF6",
            "gridcolor": "white",
            "gridwidth": 2,
            "linecolor": "white",
            "showbackground": true,
            "ticks": "",
            "zerolinecolor": "white"
           },
           "zaxis": {
            "backgroundcolor": "#E5ECF6",
            "gridcolor": "white",
            "gridwidth": 2,
            "linecolor": "white",
            "showbackground": true,
            "ticks": "",
            "zerolinecolor": "white"
           }
          },
          "shapedefaults": {
           "line": {
            "color": "#2a3f5f"
           }
          },
          "ternary": {
           "aaxis": {
            "gridcolor": "white",
            "linecolor": "white",
            "ticks": ""
           },
           "baxis": {
            "gridcolor": "white",
            "linecolor": "white",
            "ticks": ""
           },
           "bgcolor": "#E5ECF6",
           "caxis": {
            "gridcolor": "white",
            "linecolor": "white",
            "ticks": ""
           }
          },
          "title": {
           "x": 0.05
          },
          "xaxis": {
           "automargin": true,
           "gridcolor": "white",
           "linecolor": "white",
           "ticks": "",
           "title": {
            "standoff": 15
           },
           "zerolinecolor": "white",
           "zerolinewidth": 2
          },
          "yaxis": {
           "automargin": true,
           "gridcolor": "white",
           "linecolor": "white",
           "ticks": "",
           "title": {
            "standoff": 15
           },
           "zerolinecolor": "white",
           "zerolinewidth": 2
          }
         }
        },
        "title": {
         "text": "Boxplot of Mean Temperature"
        },
        "width": 800,
        "xaxis": {
         "anchor": "y",
         "autorange": true,
         "domain": [
          0,
          1
         ],
         "range": [
          -0.5,
          0.5
         ],
         "title": {
          "text": ""
         },
         "type": "category"
        },
        "yaxis": {
         "anchor": "x",
         "autorange": true,
         "domain": [
          0,
          1
         ],
         "range": [
          6.057508188460569,
          39.0184555303603
         ],
         "title": {
          "text": "Mean Temperature"
         },
         "type": "linear"
        }
       }
      },
      "image/png": "[encoded data removed]",
      "text/html": [
       "<div>                            <div id=\"af7824a2-0afc-4ae9-a472-0524c0f0874a\" class=\"plotly-graph-div\" style=\"height:600px; width:800px;\"></div>            <script type=\"text/javascript\">                require([\"plotly\"], function(Plotly) {                    window.PLOTLYENV=window.PLOTLYENV || {};                                    if (document.getElementById(\"af7824a2-0afc-4ae9-a472-0524c0f0874a\")) {                    Plotly.newPlot(                        \"af7824a2-0afc-4ae9-a472-0524c0f0874a\",                        [{\"alignmentgroup\":\"True\",\"hovertemplate\":\"meantemp=%{y}<extra></extra>\",\"legendgroup\":\"\",\"marker\":{\"color\":\"skyblue\"},\"name\":\"\",\"notched\":false,\"offsetgroup\":\"\",\"orientation\":\"v\",\"showlegend\":false,\"x0\":\" \",\"xaxis\":\"x\",\"y\":[7.705555555555556,12.343537414965985,13.642857142857142,12.329591836734693,15.736904761904762,15.856972789115646,16.012755102040817,17.708163265306123,18.661054421768707,22.214115646258502,22.642857142857142,25.507653061224488,22.71734693877551,25.991666666666667,29.455442176870747,29.49115646258503,29.85969387755102,31.287414965986393,32.71683673469388,32.7952380952381,37.37040816326531,33.65119047619048,34.89659863945578,31.232142857142858,31.961734693877553,31.913265306122447,32.27329931972789,30.351190476190474,30.004761904761903,30.26190476190476,30.98639455782313,28.590986394557824,28.570408163265306,29.33248299319728,30.56462585034014,31.05612244897959,30.851190476190478,28.579931972789115,29.27857142857143,28.00374149659864,28.048979591836734,26.013605442176868,24.31530612244898,22.552721088435373,19.343537414965986,17.142857142857142,18.198979591836736,19.125,16.808673469387752,16.397959183673468,15.196428571428571,12.409013605442178,12.714285714285714,12.236394557823129,13.165816326530614,14.153061224489795,15.232142857142858,16.987244897959183,13.339285714285714,15.982142857142858,17.10969387755102,19.178571428571427,20.58418367346939,23.51530612244898,24.293367346938773,26.301020408163264,27.038265306122447,26.714285714285715,29.803571428571427,32.82142857142857,30.367346938775512,28.875,32.482142857142854,33.05357142857143,36.19642857142857,34.32142857142857,36.035714285714285,33.214285714285715,31.209967320261438,35.035714285714285,30.982142857142858,31.40561224489796,31.357142857142858,30.319327731092436,31.239795918367346,32.839285714285715,31.158163265306122,28.739795918367346,29.22448979591837,30.571428571428573,30.285714285714285,30.57908163265306,28.119897959183675,24.625,25.321428571428573,23.910714285714285,23.535714285714285,19.142857142857142,18.357142857142858,18.642857142857142,20.125,17.683673469387752,13.071428571428571,9.75,13.428571428571429,11.196428571428571,12.392857142857142,13.321428571428571,13.10204081632653,15.857142857142858,17.089285714285715,21.79081632653061,20.767857142857142,18.160714285714285,19.303571428571427,22.086734693877553,26.428571428571427,24.70918367346939,25.732142857142858,27.75,30.928571428571427,31.053571428571427,33.8469387755102,30.892857142857142,35.035714285714285,34.732142857142854,31.785714285714285,34.339285714285715,33.107142857142854,32.214285714285715,32.941326530612244,27.785714285714285,30.892857142857142,31.104591836734695,29.071428571428573,29.36033163265306,29.928571428571427,30.196428571428573,32.017857142857146,31.658163265306122,31.48469387755102,31.341836734693878,29.102040816326532,28.808673469387752,28.54591836734694,28.158163265306122,26.051020408163264,23.0,22.839285714285715,22.214285714285715,19.232142857142858,18.607142857142858,18.107142857142858,16.68622448979592,12.660714285714286,12.571428571428571,15.298469387755102,16.152210884353742,15.454166666666666,12.46232993197279,16.821428571428573,14.88949383949384,18.084356714713856,20.253440607012035,22.182653061224492,24.826190476190476,24.36921768707483,25.25688775510204,26.6875,29.83231292517007,31.24047619047619,32.69345238095238,33.30952380952381,33.46968210361067,33.95680272108844,35.216421568627446,37.16751700680272,34.008921550009326,34.99243197278911,35.27559523809524,34.6468537414966,33.93091313448456,32.28962585034014,32.47380952380952,29.991071428571427,32.24821428571429,29.15297619047619,31.781489262371615,30.54607535321821,31.382653061224488,31.68167044595616,29.736694685697632,31.036416361416364,31.816899766899763,31.798130894870024,32.271889301175015,30.834546194546196,29.271164021164022,28.62075332075332,26.690271274619104],\"y0\":\" \",\"yaxis\":\"y\",\"type\":\"box\"}],                        {\"template\":{\"data\":{\"histogram2dcontour\":[{\"type\":\"histogram2dcontour\",\"colorbar\":{\"outlinewidth\":0,\"ticks\":\"\"},\"colorscale\":[[0.0,\"#0d0887\"],[0.1111111111111111,\"#46039f\"],[0.2222222222222222,\"#7201a8\"],[0.3333333333333333,\"#9c179e\"],[0.4444444444444444,\"#bd3786\"],[0.5555555555555556,\"#d8576b\"],[0.6666666666666666,\"#ed7953\"],[0.7777777777777778,\"#fb9f3a\"],[0.8888888888888888,\"#fdca26\"],[1.0,\"#f0f921\"]]}],\"choropleth\":[{\"type\":\"choropleth\",\"colorbar\":{\"outlinewidth\":0,\"ticks\":\"\"}}],\"histogram2d\":[{\"type\":\"histogram2d\",\"colorbar\":{\"outlinewidth\":0,\"ticks\":\"\"},\"colorscale\":[[0.0,\"#0d0887\"],[0.1111111111111111,\"#46039f\"],[0.2222222222222222,\"#7201a8\"],[0.3333333333333333,\"#9c179e\"],[0.4444444444444444,\"#bd3786\"],[0.5555555555555556,\"#d8576b\"],[0.6666666666666666,\"#ed7953\"],[0.7777777777777778,\"#fb9f3a\"],[0.8888888888888888,\"#fdca26\"],[1.0,\"#f0f921\"]]}],\"heatmap\":[{\"type\":\"heatmap\",\"colorbar\":{\"outlinewidth\":0,\"ticks\":\"\"},\"colorscale\":[[0.0,\"#0d0887\"],[0.1111111111111111,\"#46039f\"],[0.2222222222222222,\"#7201a8\"],[0.3333333333333333,\"#9c179e\"],[0.4444444444444444,\"#bd3786\"],[0.5555555555555556,\"#d8576b\"],[0.6666666666666666,\"#ed7953\"],[0.7777777777777778,\"#fb9f3a\"],[0.8888888888888888,\"#fdca26\"],[1.0,\"#f0f921\"]]}],\"heatmapgl\":[{\"type\":\"heatmapgl\",\"colorbar\":{\"outlinewidth\":0,\"ticks\":\"\"},\"colorscale\":[[0.0,\"#0d0887\"],[0.1111111111111111,\"#46039f\"],[0.2222222222222222,\"#7201a8\"],[0.3333333333333333,\"#9c179e\"],[0.4444444444444444,\"#bd3786\"],[0.5555555555555556,\"#d8576b\"],[0.6666666666666666,\"#ed7953\"],[0.7777777777777778,\"#fb9f3a\"],[0.8888888888888888,\"#fdca26\"],[1.0,\"#f0f921\"]]}],\"contourcarpet\":[{\"type\":\"contourcarpet\",\"colorbar\":{\"outlinewidth\":0,\"ticks\":\"\"}}],\"contour\":[{\"type\":\"contour\",\"colorbar\":{\"outlinewidth\":0,\"ticks\":\"\"},\"colorscale\":[[0.0,\"#0d0887\"],[0.1111111111111111,\"#46039f\"],[0.2222222222222222,\"#7201a8\"],[0.3333333333333333,\"#9c179e\"],[0.4444444444444444,\"#bd3786\"],[0.5555555555555556,\"#d8576b\"],[0.6666666666666666,\"#ed7953\"],[0.7777777777777778,\"#fb9f3a\"],[0.8888888888888888,\"#fdca26\"],[1.0,\"#f0f921\"]]}],\"surface\":[{\"type\":\"surface\",\"colorbar\":{\"outlinewidth\":0,\"ticks\":\"\"},\"colorscale\":[[0.0,\"#0d0887\"],[0.1111111111111111,\"#46039f\"],[0.2222222222222222,\"#7201a8\"],[0.3333333333333333,\"#9c179e\"],[0.4444444444444444,\"#bd3786\"],[0.5555555555555556,\"#d8576b\"],[0.6666666666666666,\"#ed7953\"],[0.7777777777777778,\"#fb9f3a\"],[0.8888888888888888,\"#fdca26\"],[1.0,\"#f0f921\"]]}],\"mesh3d\":[{\"type\":\"mesh3d\",\"colorbar\":{\"outlinewidth\":0,\"ticks\":\"\"}}],\"scatter\":[{\"fillpattern\":{\"fillmode\":\"overlay\",\"size\":10,\"solidity\":0.2},\"type\":\"scatter\"}],\"parcoords\":[{\"type\":\"parcoords\",\"line\":{\"colorbar\":{\"outlinewidth\":0,\"ticks\":\"\"}}}],\"scatterpolargl\":[{\"type\":\"scatterpolargl\",\"marker\":{\"colorbar\":{\"outlinewidth\":0,\"ticks\":\"\"}}}],\"bar\":[{\"error_x\":{\"color\":\"#2a3f5f\"},\"error_y\":{\"color\":\"#2a3f5f\"},\"marker\":{\"line\":{\"color\":\"#E5ECF6\",\"width\":0.5},\"pattern\":{\"fillmode\":\"overlay\",\"size\":10,\"solidity\":0.2}},\"type\":\"bar\"}],\"scattergeo\":[{\"type\":\"scattergeo\",\"marker\":{\"colorbar\":{\"outlinewidth\":0,\"ticks\":\"\"}}}],\"scatterpolar\":[{\"type\":\"scatterpolar\",\"marker\":{\"colorbar\":{\"outlinewidth\":0,\"ticks\":\"\"}}}],\"histogram\":[{\"marker\":{\"pattern\":{\"fillmode\":\"overlay\",\"size\":10,\"solidity\":0.2}},\"type\":\"histogram\"}],\"scattergl\":[{\"type\":\"scattergl\",\"marker\":{\"colorbar\":{\"outlinewidth\":0,\"ticks\":\"\"}}}],\"scatter3d\":[{\"type\":\"scatter3d\",\"line\":{\"colorbar\":{\"outlinewidth\":0,\"ticks\":\"\"}},\"marker\":{\"colorbar\":{\"outlinewidth\":0,\"ticks\":\"\"}}}],\"scattermapbox\":[{\"type\":\"scattermapbox\",\"marker\":{\"colorbar\":{\"outlinewidth\":0,\"ticks\":\"\"}}}],\"scatterternary\":[{\"type\":\"scatterternary\",\"marker\":{\"colorbar\":{\"outlinewidth\":0,\"ticks\":\"\"}}}],\"scattercarpet\":[{\"type\":\"scattercarpet\",\"marker\":{\"colorbar\":{\"outlinewidth\":0,\"ticks\":\"\"}}}],\"carpet\":[{\"aaxis\":{\"endlinecolor\":\"#2a3f5f\",\"gridcolor\":\"white\",\"linecolor\":\"white\",\"minorgridcolor\":\"white\",\"startlinecolor\":\"#2a3f5f\"},\"baxis\":{\"endlinecolor\":\"#2a3f5f\",\"gridcolor\":\"white\",\"linecolor\":\"white\",\"minorgridcolor\":\"white\",\"startlinecolor\":\"#2a3f5f\"},\"type\":\"carpet\"}],\"table\":[{\"cells\":{\"fill\":{\"color\":\"#EBF0F8\"},\"line\":{\"color\":\"white\"}},\"header\":{\"fill\":{\"color\":\"#C8D4E3\"},\"line\":{\"color\":\"white\"}},\"type\":\"table\"}],\"barpolar\":[{\"marker\":{\"line\":{\"color\":\"#E5ECF6\",\"width\":0.5},\"pattern\":{\"fillmode\":\"overlay\",\"size\":10,\"solidity\":0.2}},\"type\":\"barpolar\"}],\"pie\":[{\"automargin\":true,\"type\":\"pie\"}]},\"layout\":{\"autotypenumbers\":\"strict\",\"colorway\":[\"#636efa\",\"#EF553B\",\"#00cc96\",\"#ab63fa\",\"#FFA15A\",\"#19d3f3\",\"#FF6692\",\"#B6E880\",\"#FF97FF\",\"#FECB52\"],\"font\":{\"color\":\"#2a3f5f\"},\"hovermode\":\"closest\",\"hoverlabel\":{\"align\":\"left\"},\"paper_bgcolor\":\"white\",\"plot_bgcolor\":\"#E5ECF6\",\"polar\":{\"bgcolor\":\"#E5ECF6\",\"angularaxis\":{\"gridcolor\":\"white\",\"linecolor\":\"white\",\"ticks\":\"\"},\"radialaxis\":{\"gridcolor\":\"white\",\"linecolor\":\"white\",\"ticks\":\"\"}},\"ternary\":{\"bgcolor\":\"#E5ECF6\",\"aaxis\":{\"gridcolor\":\"white\",\"linecolor\":\"white\",\"ticks\":\"\"},\"baxis\":{\"gridcolor\":\"white\",\"linecolor\":\"white\",\"ticks\":\"\"},\"caxis\":{\"gridcolor\":\"white\",\"linecolor\":\"white\",\"ticks\":\"\"}},\"coloraxis\":{\"colorbar\":{\"outlinewidth\":0,\"ticks\":\"\"}},\"colorscale\":{\"sequential\":[[0.0,\"#0d0887\"],[0.1111111111111111,\"#46039f\"],[0.2222222222222222,\"#7201a8\"],[0.3333333333333333,\"#9c179e\"],[0.4444444444444444,\"#bd3786\"],[0.5555555555555556,\"#d8576b\"],[0.6666666666666666,\"#ed7953\"],[0.7777777777777778,\"#fb9f3a\"],[0.8888888888888888,\"#fdca26\"],[1.0,\"#f0f921\"]],\"sequentialminus\":[[0.0,\"#0d0887\"],[0.1111111111111111,\"#46039f\"],[0.2222222222222222,\"#7201a8\"],[0.3333333333333333,\"#9c179e\"],[0.4444444444444444,\"#bd3786\"],[0.5555555555555556,\"#d8576b\"],[0.6666666666666666,\"#ed7953\"],[0.7777777777777778,\"#fb9f3a\"],[0.8888888888888888,\"#fdca26\"],[1.0,\"#f0f921\"]],\"diverging\":[[0,\"#8e0152\"],[0.1,\"#c51b7d\"],[0.2,\"#de77ae\"],[0.3,\"#f1b6da\"],[0.4,\"#fde0ef\"],[0.5,\"#f7f7f7\"],[0.6,\"#e6f5d0\"],[0.7,\"#b8e186\"],[0.8,\"#7fbc41\"],[0.9,\"#4d9221\"],[1,\"#276419\"]]},\"xaxis\":{\"gridcolor\":\"white\",\"linecolor\":\"white\",\"ticks\":\"\",\"title\":{\"standoff\":15},\"zerolinecolor\":\"white\",\"automargin\":true,\"zerolinewidth\":2},\"yaxis\":{\"gridcolor\":\"white\",\"linecolor\":\"white\",\"ticks\":\"\",\"title\":{\"standoff\":15},\"zerolinecolor\":\"white\",\"automargin\":true,\"zerolinewidth\":2},\"scene\":{\"xaxis\":{\"backgroundcolor\":\"#E5ECF6\",\"gridcolor\":\"white\",\"linecolor\":\"white\",\"showbackground\":true,\"ticks\":\"\",\"zerolinecolor\":\"white\",\"gridwidth\":2},\"yaxis\":{\"backgroundcolor\":\"#E5ECF6\",\"gridcolor\":\"white\",\"linecolor\":\"white\",\"showbackground\":true,\"ticks\":\"\",\"zerolinecolor\":\"white\",\"gridwidth\":2},\"zaxis\":{\"backgroundcolor\":\"#E5ECF6\",\"gridcolor\":\"white\",\"linecolor\":\"white\",\"showbackground\":true,\"ticks\":\"\",\"zerolinecolor\":\"white\",\"gridwidth\":2}},\"shapedefaults\":{\"line\":{\"color\":\"#2a3f5f\"}},\"annotationdefaults\":{\"arrowcolor\":\"#2a3f5f\",\"arrowhead\":0,\"arrowwidth\":1},\"geo\":{\"bgcolor\":\"white\",\"landcolor\":\"#E5ECF6\",\"subunitcolor\":\"white\",\"showland\":true,\"showlakes\":true,\"lakecolor\":\"white\"},\"title\":{\"x\":0.05},\"mapbox\":{\"style\":\"light\"}}},\"xaxis\":{\"anchor\":\"y\",\"domain\":[0.0,1.0],\"title\":{\"text\":\"\"}},\"yaxis\":{\"anchor\":\"x\",\"domain\":[0.0,1.0],\"title\":{\"text\":\"Mean Temperature\"}},\"legend\":{\"tracegroupgap\":0},\"title\":{\"text\":\"Boxplot of Mean Temperature\"},\"boxmode\":\"group\",\"width\":800,\"height\":600},                        {\"responsive\": true}                    ).then(function(){\n",
       "                            \n",
       "var gd = document.getElementById('af7824a2-0afc-4ae9-a472-0524c0f0874a');\n",
       "var x = new MutationObserver(function (mutations, observer) {{\n",
       "        var display = window.getComputedStyle(gd).display;\n",
       "        if (!display || display === 'none') {{\n",
       "            console.log([gd, 'removed!']);\n",
       "            Plotly.purge(gd);\n",
       "            observer.disconnect();\n",
       "        }}\n",
       "}});\n",
       "\n",
       "// Listen for the removal of the full notebook cells\n",
       "var notebookContainer = gd.closest('#notebook-container');\n",
       "if (notebookContainer) {{\n",
       "    x.observe(notebookContainer, {childList: true});\n",
       "}}\n",
       "\n",
       "// Listen for the clearing of the current output cell\n",
       "var outputEl = gd.closest('.output');\n",
       "if (outputEl) {{\n",
       "    x.observe(outputEl, {childList: true});\n",
       "}}\n",
       "\n",
       "                        })                };                });            </script>        </div>"
      ]
     },
     "metadata": {},
     "output_type": "display_data"
    }
   ],
   "source": [
    "fig = px.box(train, y='meantemp', title='Boxplot of Mean Temperature', color_discrete_sequence=['skyblue'])\n",
    "\n",
    "\n",
    "fig.update_layout(\n",
    "    yaxis_title='Mean Temperature',\n",
    "    xaxis_title='',\n",
    "    width=800, \n",
    "    height=600 \n",
    ")\n",
    "\n",
    "\n",
    "fig.show()"
   ]
  },
  {
   "cell_type": "code",
   "execution_count": 53,
   "id": "55945900-188b-492c-ae41-dc18da4aa714",
   "metadata": {},
   "outputs": [],
   "source": [
    "# Setting date back as index\n",
    "\n",
    "train = train.set_index(\"date\")"
   ]
  },
  {
   "cell_type": "markdown",
   "id": "3db64810-5ac7-46c5-90f6-760f95443117",
   "metadata": {},
   "source": [
    "- We can observe that the time-series is non-stationary and is showing a strong seasonality.\n",
    "- Let us further check about trend, seasonality and residuals with a decomposition chart."
   ]
  },
  {
   "cell_type": "code",
   "execution_count": 55,
   "id": "1163b546-6183-4912-9c6d-9ece5694cb1a",
   "metadata": {},
   "outputs": [],
   "source": [
    "from statsmodels.tsa.seasonal import seasonal_decompose"
   ]
  },
  {
   "cell_type": "markdown",
   "id": "9397ca62-b0e1-43df-9796-439c998512b2",
   "metadata": {},
   "source": [
    "## Decomposition Plot"
   ]
  },
  {
   "cell_type": "code",
   "execution_count": 60,
   "id": "c6d06eac-ed7c-47b9-b8bd-b94c0e27748e",
   "metadata": {},
   "outputs": [
    {
     "data": {
      "image/png": "[encoded data removed]",
      "text/plain": [
       "<Figure size 640x480 with 4 Axes>"
      ]
     },
     "metadata": {},
     "output_type": "display_data"
    }
   ],
   "source": [
    "decomposition = seasonal_decompose(train['meantemp'], model='additive')\n",
    "decomposition.plot()\n",
    "plt.show()"
   ]
  },
  {
   "cell_type": "markdown",
   "id": "4f55e3c8-c6bc-4ff5-bc58-e9ea1ccd0a45",
   "metadata": {},
   "source": [
    "- Upward trend shows increase in the mean temperatures over the period of time."
   ]
  },
  {
   "cell_type": "markdown",
   "id": "6a1c58d8-b45b-40ed-a448-64049bdc4046",
   "metadata": {},
   "source": [
    "- Seasonality indicates temperatures go up and down in a cycle of 12 months (as per different seasons)."
   ]
  },
  {
   "cell_type": "markdown",
   "id": "3ad52b2b-395e-4f36-bbb3-a602cbf3a49a",
   "metadata": {},
   "source": [
    "**Residual Chart**\n",
    "- Random Scattering: The residuals appear to be randomly scattered, which is a good sign. This implies that the model has captured the underlying structure of the data well, and the remaining variability (residuals) is random noise.\n",
    "- Centering Around Zero: The residuals are scattered around the horizontal line at zero, which is good. This indicates that the model's predictions are generally unbiased, meaning that the errors (the differences between the observed and predicted values) are balanced around zero.\n",
    "- No Apparent Trend Over Time: The residuals do not exhibit any obvious patterns or trends over time. This suggests that the model's performance is consistent over the time period, without systematic overestimation or underestimation in specific periods."
   ]
  },
  {
   "cell_type": "markdown",
   "id": "f5e85e97-62b9-476b-8a67-a8b25d2e5d7f",
   "metadata": {},
   "source": [
    "# Stationarity Check: ADF Test"
   ]
  },
  {
   "cell_type": "code",
   "execution_count": 61,
   "id": "df3d64cd-5a08-45f4-8758-73956854b374",
   "metadata": {},
   "outputs": [],
   "source": [
    "from statsmodels.tsa.stattools import adfuller"
   ]
  },
  {
   "cell_type": "code",
   "execution_count": 62,
   "id": "0ebf7d93-0c9f-4a9d-adfe-0272a128a632",
   "metadata": {},
   "outputs": [],
   "source": [
    "def ad_test(dataset):\n",
    "    dftest = adfuller(dataset, autolag = 'AIC')\n",
    "    print('1. ADF : ', dftest[0])\n",
    "    print('2. P-Value : ', dftest[1])\n",
    "    print('3. Num of Lags : ', dftest[2])\n",
    "    print('4. Num of Observations Used For ADF Regression and Critical Values Calculation : ', dftest[3])\n",
    "    print('5. Critical Values : ')\n",
    "    for key, val in dftest[4].items():\n",
    "        print('\\t',key, ': ', val)"
   ]
  },
  {
   "cell_type": "code",
   "execution_count": 64,
   "id": "5809cac8-9712-432d-8fb4-5afe5e872f98",
   "metadata": {},
   "outputs": [
    {
     "name": "stdout",
     "output_type": "stream",
     "text": [
      "1. ADF :  -5.025966063890511\n",
      "2. P-Value :  1.9711582275560316e-05\n",
      "3. Num of Lags :  7\n",
      "4. Num of Observations Used For ADF Regression and Critical Values Calculation :  192\n",
      "5. Critical Values : \n",
      "\t 1% :  -3.4648754262570978\n",
      "\t 5% :  -2.876714157488788\n",
      "\t 10% :  -2.574858699001736\n"
     ]
    }
   ],
   "source": [
    "ad_test(train['meantemp'])"
   ]
  },
  {
   "cell_type": "markdown",
   "id": "42068dc9-4c90-4d88-ac63-bd5c9ad6997b",
   "metadata": {},
   "source": [
    "- To reject the null hypothesis in an adf test (H0= Time series is non stationary), the p-value has to be less than or equal to 0.05\n",
    "- In this case, the p-value is less than 0.05 which means the time-series is stationary thus we can reject H0."
   ]
  },
  {
   "cell_type": "markdown",
   "id": "56daebaa-34d2-4f06-8686-7b471725c21a",
   "metadata": {},
   "source": [
    "- Before we start with manual ARIMA where we determine the AR, I and MA components manually, let us experiment with predicting these components with a function."
   ]
  },
  {
   "cell_type": "markdown",
   "id": "ad5e6127-c9c4-46e2-ad32-538398cb158d",
   "metadata": {},
   "source": [
    "# ARIMA"
   ]
  },
  {
   "cell_type": "code",
   "execution_count": 76,
   "id": "20f0f4ef-41a0-4a24-8e8c-2eb6316d0bcb",
   "metadata": {},
   "outputs": [],
   "source": [
    "def arima_optimizer_aic(train, orders):\n",
    "    best_aic, best_params = float(\"inf\"), None\n",
    "    for order in orders:\n",
    "        try:\n",
    "            arma_model_result = ARIMA(train, order=order).fit(disp=0)\n",
    "            aic = arma_model_result.aic\n",
    "            if aic < best_aic:\n",
    "                best_aic, best_params = aic, order\n",
    "            print('ARIMA%s AIC=%.2f' % (order, aic))\n",
    "        except:\n",
    "            continue\n",
    "    print('Best ARIMA%s AIC=%.2f' % (best_params, best_aic))\n",
    "    return best_params"
   ]
  },
  {
   "cell_type": "code",
   "execution_count": 85,
   "id": "c284c524-e24f-4c40-b2f8-36cc71ea1cfe",
   "metadata": {},
   "outputs": [
    {
     "name": "stdout",
     "output_type": "stream",
     "text": [
      "Best ARIMANone AIC=inf\n"
     ]
    }
   ],
   "source": [
    "p = d = q = range(0, 4)\n",
    "pdq = list(itertools.product(p, d, q))\n",
    "best_params_aic = arima_optimizer_aic(train, pdq)"
   ]
  },
  {
   "cell_type": "code",
   "execution_count": 67,
   "id": "31c92bfa-5028-4924-84da-70f0877efe55",
   "metadata": {},
   "outputs": [],
   "source": [
    "from statsmodels.tsa.arima.model import ARIMA"
   ]
  },
  {
   "cell_type": "code",
   "execution_count": 86,
   "id": "a99db230-bcf8-4a60-bb47-d7ddc6e938c5",
   "metadata": {},
   "outputs": [
    {
     "data": {
      "text/plain": [
       "6.233715492566089"
      ]
     },
     "execution_count": 86,
     "metadata": {},
     "output_type": "execute_result"
    }
   ],
   "source": [
    "arima_model = ARIMA(train, best_params_aic).fit()\n",
    "y_pred_arima = arima_model.forecast(steps=26)\n",
    "mean_absolute_error(test, y_pred_arima)"
   ]
  },
  {
   "cell_type": "code",
   "execution_count": 87,
   "id": "e442f70b-2652-4fd9-8173-fc30f9085539",
   "metadata": {},
   "outputs": [
    {
     "name": "stdout",
     "output_type": "stream",
     "text": [
      "                               SARIMAX Results                                \n",
      "==============================================================================\n",
      "Dep. Variable:               meantemp   No. Observations:                  200\n",
      "Model:                 ARIMA(2, 0, 4)   Log Likelihood                -407.980\n",
      "Date:                Mon, 09 Sep 2024   AIC                            831.959\n",
      "Time:                        13:46:11   BIC                            858.346\n",
      "Sample:                    01-06-2013   HQIC                           842.638\n",
      "                         - 10-30-2016                                         \n",
      "Covariance Type:                  opg                                         \n",
      "==============================================================================\n",
      "                 coef    std err          z      P>|z|      [0.025      0.975]\n",
      "------------------------------------------------------------------------------\n",
      "const         25.0447      1.455     17.209      0.000      22.192      27.897\n",
      "ar.L1          1.9167      0.036     53.518      0.000       1.847       1.987\n",
      "ar.L2         -0.9361      0.035    -26.713      0.000      -1.005      -0.867\n",
      "ma.L1         -1.1845      0.086    -13.828      0.000      -1.352      -1.017\n",
      "ma.L2          0.2922      0.110      2.649      0.008       0.076       0.508\n",
      "ma.L3          0.0196      0.112      0.175      0.861      -0.200       0.239\n",
      "ma.L4          0.0908      0.077      1.185      0.236      -0.059       0.241\n",
      "sigma2         3.3956      0.400      8.489      0.000       2.612       4.180\n",
      "===================================================================================\n",
      "Ljung-Box (L1) (Q):                   0.25   Jarque-Bera (JB):                 4.34\n",
      "Prob(Q):                              0.61   Prob(JB):                         0.11\n",
      "Heteroskedasticity (H):               0.81   Skew:                            -0.32\n",
      "Prob(H) (two-sided):                  0.38   Kurtosis:                         2.66\n",
      "===================================================================================\n",
      "\n",
      "Warnings:\n",
      "[1] Covariance matrix calculated using the outer product of gradients (complex-step).\n"
     ]
    }
   ],
   "source": [
    "print(model_fit.summary())"
   ]
  },
  {
   "cell_type": "code",
   "execution_count": 94,
   "id": "a91fe1ee-f23c-4062-9f64-9c94cac2b574",
   "metadata": {},
   "outputs": [
    {
     "data": {
      "image/png": "[encoded data removed]",
      "text/plain": [
       "<Figure size 1200x600 with 1 Axes>"
      ]
     },
     "metadata": {},
     "output_type": "display_data"
    }
   ],
   "source": [
    "y_pred_arima_series = pd.Series(y_pred_arima, index=test.index)\n",
    "\n",
    "# Plot all the series\n",
    "plt.figure(figsize=(12, 6))\n",
    "\n",
    "# Plot train data\n",
    "plt.plot(train.index, train, label=\"TRAIN\", color='blue')\n",
    "\n",
    "# Plot test data\n",
    "plt.plot(test.index, test, label=\"TEST\", color='orange')\n",
    "\n",
    "# Plot predictions\n",
    "plt.plot(y_pred_arima_series.index, y_pred_arima_series, label=\"PREDICTION\", color='red')\n",
    "\n",
    "plt.xlabel('Date')\n",
    "plt.ylabel('Value')\n",
    "plt.title('Train, Test, and Predicted Test')\n",
    "plt.legend()\n",
    "\n",
    "plt.show()"
   ]
  },
  {
   "cell_type": "markdown",
   "id": "c4f29e12-80e9-4ba9-89e9-8200738fba56",
   "metadata": {},
   "source": [
    "- From the above predictions on the test set, it is clear that ARIMA is not able to capture the seasonal fluctuations and thus we need to implement a Seasonal ARIMA (SARIMA) model."
   ]
  },
  {
   "cell_type": "markdown",
   "id": "de7e6709-2836-4058-84a0-64208e40c0ad",
   "metadata": {},
   "source": [
    "# SARIMA"
   ]
  },
  {
   "cell_type": "code",
   "execution_count": 95,
   "id": "f7539ebe-0b43-4a3e-bf0d-14ae227b543f",
   "metadata": {},
   "outputs": [],
   "source": [
    "p = d = q = range(0, 2)\n",
    "pdq = list(itertools.product(p, d, q))\n",
    "seasonal_pdq = [(x[0], x[1], x[2], 52) for x in list(itertools.product(p, d, q))]"
   ]
  },
  {
   "cell_type": "code",
   "execution_count": 97,
   "id": "f4ec16d7-723e-42e4-8765-6e9175ec5b7f",
   "metadata": {},
   "outputs": [],
   "source": [
    "def sarima_optimizer_aic(train, pdq, seasonal_pdq):\n",
    "    best_aic, best_order, best_seasonal_order = float(\"inf\"), float(\"inf\"), None\n",
    "    for param in pdq:\n",
    "        for param_seasonal in seasonal_pdq:\n",
    "            try:\n",
    "                sarimax_model = SARIMAX(train, order=param, seasonal_order=param_seasonal)\n",
    "                results = sarimax_model.fit(disp=0)\n",
    "                aic = results.aic\n",
    "                if aic < best_aic:\n",
    "                    best_aic, best_order, best_seasonal_order = aic, param, param_seasonal\n",
    "                print('SARIMA{}x{} - AIC:{}'.format(param, param_seasonal, aic))\n",
    "            except:\n",
    "                continue\n",
    "    print('SARIMA{}x{} - AIC:{}'.format(best_order, best_seasonal_order, best_aic))\n",
    "    return best_order, best_seasonal_order"
   ]
  },
  {
   "cell_type": "code",
   "execution_count": 99,
   "id": "e99fab8e-3aab-476a-a90c-f2163f050742",
   "metadata": {},
   "outputs": [],
   "source": [
    "from statsmodels.tsa.statespace.sarimax import SARIMAX"
   ]
  },
  {
   "cell_type": "code",
   "execution_count": 100,
   "id": "ad6a60a6-bfb6-468b-8781-daf6fa39a3b1",
   "metadata": {
    "scrolled": true
   },
   "outputs": [
    {
     "name": "stdout",
     "output_type": "stream",
     "text": [
      "SARIMA(0, 0, 0)x(0, 0, 0, 52) - AIC:1883.781252308489\n",
      "SARIMA(0, 0, 0)x(0, 0, 1, 52) - AIC:1731.5188043023436\n",
      "SARIMA(0, 0, 0)x(0, 1, 0, 52) - AIC:688.6763061921374\n",
      "SARIMA(0, 0, 0)x(0, 1, 1, 52) - AIC:666.718353163584\n",
      "SARIMA(0, 0, 0)x(1, 0, 0, 52) - AIC:1179.8318860835516\n",
      "SARIMA(0, 0, 0)x(1, 0, 1, 52) - AIC:1157.4725546751238\n",
      "SARIMA(0, 0, 0)x(1, 1, 0, 52) - AIC:670.7223709764355\n",
      "SARIMA(0, 0, 0)x(1, 1, 1, 52) - AIC:668.6977212488489\n",
      "SARIMA(0, 0, 1)x(0, 0, 0, 52) - AIC:1633.0195259381505\n",
      "SARIMA(0, 0, 1)x(0, 0, 1, 52) - AIC:1499.2183532149957\n",
      "SARIMA(0, 0, 1)x(0, 1, 0, 52) - AIC:669.9027990121738\n",
      "SARIMA(0, 0, 1)x(0, 1, 1, 52) - AIC:641.4544797009521\n",
      "SARIMA(0, 0, 1)x(1, 0, 0, 52) - AIC:1123.6690020005126\n",
      "SARIMA(0, 0, 1)x(1, 0, 1, 52) - AIC:1092.3874680145796\n",
      "SARIMA(0, 0, 1)x(1, 1, 0, 52) - AIC:646.6776218095547\n",
      "SARIMA(0, 0, 1)x(1, 1, 1, 52) - AIC:643.4318266144097\n",
      "SARIMA(0, 1, 0)x(0, 0, 0, 52) - AIC:855.9311520024171\n",
      "SARIMA(0, 1, 0)x(0, 0, 1, 52) - AIC:852.8988021783808\n",
      "SARIMA(0, 1, 0)x(0, 1, 0, 52) - AIC:709.2888230515571\n",
      "SARIMA(0, 1, 0)x(0, 1, 1, 52) - AIC:665.8570057629994\n",
      "SARIMA(0, 1, 0)x(1, 0, 0, 52) - AIC:852.1196011492123\n",
      "SARIMA(0, 1, 0)x(1, 0, 1, 52) - AIC:848.2535479315716\n",
      "SARIMA(0, 1, 0)x(1, 1, 0, 52) - AIC:676.3762775398022\n",
      "SARIMA(0, 1, 0)x(1, 1, 1, 52) - AIC:667.444356472849\n",
      "SARIMA(0, 1, 1)x(0, 0, 0, 52) - AIC:857.237453617066\n",
      "SARIMA(0, 1, 1)x(0, 0, 1, 52) - AIC:852.3834526462908\n",
      "SARIMA(0, 1, 1)x(0, 1, 0, 52) - AIC:667.4632219670011\n",
      "SARIMA(0, 1, 1)x(0, 1, 1, 52) - AIC:627.0234767133052\n",
      "SARIMA(0, 1, 1)x(1, 0, 0, 52) - AIC:850.7924647854596\n",
      "SARIMA(0, 1, 1)x(1, 0, 1, 52) - AIC:844.1731845385198\n",
      "SARIMA(0, 1, 1)x(1, 1, 0, 52) - AIC:636.3775807480504\n",
      "SARIMA(0, 1, 1)x(1, 1, 1, 52) - AIC:628.675474412388\n",
      "SARIMA(1, 0, 0)x(0, 0, 0, 52) - AIC:866.5090134777773\n",
      "SARIMA(1, 0, 0)x(0, 0, 1, 52) - AIC:863.3937428687952\n",
      "SARIMA(1, 0, 0)x(0, 1, 0, 52) - AIC:665.4165506255063\n",
      "SARIMA(1, 0, 0)x(0, 1, 1, 52) - AIC:632.0614296268523\n",
      "SARIMA(1, 0, 0)x(1, 0, 0, 52) - AIC:862.5704571044812\n",
      "SARIMA(1, 0, 0)x(1, 0, 1, 52) - AIC:858.1719189483483\n",
      "SARIMA(1, 0, 0)x(1, 1, 0, 52) - AIC:639.2155312021717\n",
      "SARIMA(1, 0, 0)x(1, 1, 1, 52) - AIC:634.055462847663\n",
      "SARIMA(1, 0, 1)x(0, 0, 0, 52) - AIC:867.8512512716293\n",
      "SARIMA(1, 0, 1)x(0, 0, 1, 52) - AIC:862.959195493552\n",
      "SARIMA(1, 0, 1)x(0, 1, 0, 52) - AIC:666.9473146299035\n",
      "SARIMA(1, 0, 1)x(0, 1, 1, 52) - AIC:630.4557159379749\n",
      "SARIMA(1, 0, 1)x(1, 0, 0, 52) - AIC:861.3261612345723\n",
      "SARIMA(1, 0, 1)x(1, 0, 1, 52) - AIC:857.7156491825757\n",
      "SARIMA(1, 0, 1)x(1, 1, 0, 52) - AIC:637.7787497418578\n",
      "SARIMA(1, 0, 1)x(1, 1, 1, 52) - AIC:632.2814326201078\n",
      "SARIMA(1, 1, 0)x(0, 0, 0, 52) - AIC:857.0367240167059\n",
      "SARIMA(1, 1, 0)x(0, 0, 1, 52) - AIC:851.8450149754385\n",
      "SARIMA(1, 1, 0)x(0, 1, 0, 52) - AIC:694.5926018170649\n",
      "SARIMA(1, 1, 0)x(0, 1, 1, 52) - AIC:651.8509831296867\n",
      "SARIMA(1, 1, 0)x(1, 0, 0, 52) - AIC:850.2261208388893\n",
      "SARIMA(1, 1, 0)x(1, 0, 1, 52) - AIC:844.1155886820372\n",
      "SARIMA(1, 1, 0)x(1, 1, 0, 52) - AIC:662.6906948105185\n",
      "SARIMA(1, 1, 0)x(1, 1, 1, 52) - AIC:653.4586621735398\n",
      "SARIMA(1, 1, 1)x(0, 0, 0, 52) - AIC:858.1196942045895\n",
      "SARIMA(1, 1, 1)x(0, 0, 1, 52) - AIC:853.2700511613338\n",
      "SARIMA(1, 1, 1)x(0, 1, 0, 52) - AIC:660.2509496810454\n",
      "SARIMA(1, 1, 1)x(0, 1, 1, 52) - AIC:620.9701294481995\n",
      "SARIMA(1, 1, 1)x(1, 0, 0, 52) - AIC:851.9048992152117\n",
      "SARIMA(1, 1, 1)x(1, 0, 1, 52) - AIC:846.0727142171716\n",
      "SARIMA(1, 1, 1)x(1, 1, 0, 52) - AIC:631.2614178045276\n",
      "SARIMA(1, 1, 1)x(1, 1, 1, 52) - AIC:622.7854266723004\n",
      "SARIMA(1, 1, 1)x(0, 1, 1, 52) - AIC:620.9701294481995\n"
     ]
    }
   ],
   "source": [
    "best_order, best_seasonal_order = sarima_optimizer_aic(train, pdq, seasonal_pdq)"
   ]
  },
  {
   "cell_type": "code",
   "execution_count": 102,
   "id": "f63722e3-ad10-40bf-b9ec-e1d3762f1dfa",
   "metadata": {},
   "outputs": [],
   "source": [
    "model = SARIMAX(train, order=best_order, seasonal_order=best_seasonal_order)\n",
    "sarima_final_model = model.fit(disp=0)\n",
    "y_pred_sar = sarima_final_model.get_forecast(steps=26)"
   ]
  },
  {
   "cell_type": "code",
   "execution_count": 103,
   "id": "275cdbd9-82ae-447d-8d63-b6c9664e54ab",
   "metadata": {},
   "outputs": [
    {
     "data": {
      "text/plain": [
       "1.69390767509726"
      ]
     },
     "execution_count": 103,
     "metadata": {},
     "output_type": "execute_result"
    }
   ],
   "source": [
    "y_pred_sarima = y_pred_sar.predicted_mean\n",
    "mean_absolute_error(test, y_pred_sarima)"
   ]
  },
  {
   "cell_type": "code",
   "execution_count": 105,
   "id": "ccf10787-6e56-4309-a257-2a9a54c8eacc",
   "metadata": {},
   "outputs": [
    {
     "data": {
      "image/png": "[encoded data removed]",
      "text/plain": [
       "<Figure size 1200x600 with 1 Axes>"
      ]
     },
     "metadata": {},
     "output_type": "display_data"
    }
   ],
   "source": [
    "y_pred_sarima_series = pd.Series(y_pred_sarima, index=test.index)\n",
    "\n",
    "# Plot all the series\n",
    "plt.figure(figsize=(12, 6))\n",
    "\n",
    "# Plot train data\n",
    "plt.plot(train.index, train, label=\"TRAIN\", color='blue')\n",
    "\n",
    "# Plot test data\n",
    "plt.plot(test.index, test, label=\"TEST\", color='orange')\n",
    "\n",
    "# Plot predictions\n",
    "plt.plot(y_pred_sarima_series.index, y_pred_sarima_series, label=\"PREDICTION\", color='red')\n",
    "\n",
    "plt.xlabel('Date')\n",
    "plt.ylabel('Value')\n",
    "plt.title('Train, Test, and Predicted Test')\n",
    "plt.legend()\n",
    "\n",
    "plt.show()"
   ]
  },
  {
   "cell_type": "markdown",
   "id": "760475d5-fc3a-4ac1-9d24-5e85b18e8ea1",
   "metadata": {},
   "source": [
    "- **We can notice, SARIMA model fits well with the data set**"
   ]
  },
  {
   "cell_type": "code",
   "execution_count": 107,
   "id": "ed81dc80-d356-4ba2-8830-20835e9da6ac",
   "metadata": {},
   "outputs": [
    {
     "data": {
      "text/plain": [
       "2016-11-06    24.255699\n",
       "2016-11-13    21.474320\n",
       "2016-11-20    20.450984\n",
       "2016-11-27    20.606312\n",
       "2016-12-04    20.140973\n",
       "2016-12-11    18.685132\n",
       "2016-12-18    15.316302\n",
       "2016-12-25    12.971924\n",
       "2017-01-01    14.329328\n",
       "2017-01-08    15.024679\n",
       "2017-01-15    15.706422\n",
       "2017-01-22    15.109066\n",
       "2017-01-29    17.265610\n",
       "2017-02-05    17.940160\n",
       "2017-02-12    18.173937\n",
       "2017-02-19    20.976162\n",
       "2017-02-26    21.722846\n",
       "2017-03-05    23.137412\n",
       "2017-03-12    23.767456\n",
       "2017-03-19    26.134114\n",
       "2017-03-26    27.074218\n",
       "2017-04-02    28.751063\n",
       "2017-04-09    30.409081\n",
       "2017-04-16    31.204750\n",
       "2017-04-23    33.017858\n",
       "2017-04-30    34.200512\n",
       "Freq: W-SUN, Name: predicted_mean, dtype: float64"
      ]
     },
     "execution_count": 107,
     "metadata": {},
     "output_type": "execute_result"
    }
   ],
   "source": [
    "# Predicted values\n",
    "y_pred_sarima"
   ]
  }
 ],
 "metadata": {
  "kernelspec": {
   "display_name": "Python 3 (ipykernel)",
   "language": "python",
   "name": "python3"
  },
  "language_info": {
   "codemirror_mode": {
    "name": "ipython",
    "version": 3
   },
   "file_extension": ".py",
   "mimetype": "text/x-python",
   "name": "python",
   "nbconvert_exporter": "python",
   "pygments_lexer": "ipython3",
   "version": "3.11.7"
  }
 },
 "nbformat": 4,
 "nbformat_minor": 5
}
